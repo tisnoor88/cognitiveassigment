{
  "nbformat": 4,
  "nbformat_minor": 0,
  "metadata": {
    "colab": {
      "provenance": []
    },
    "kernelspec": {
      "name": "python3",
      "display_name": "Python 3"
    },
    "language_info": {
      "name": "python"
    }
  },
  "cells": [
    {
      "cell_type": "markdown",
      "source": [],
      "metadata": {
        "id": "Zmu3nglBnATb"
      }
    },
    {
      "cell_type": "markdown",
      "source": [
        "Assingment 1.1: WAP to print your name three times"
      ],
      "metadata": {
        "id": "kftJLJCam8nF"
      }
    },
    {
      "cell_type": "code",
      "execution_count": null,
      "metadata": {
        "colab": {
          "base_uri": "https://localhost:8080/"
        },
        "id": "R_XByA4WJQLs",
        "outputId": "271395e1-43cd-4f2d-bf78-c1c8c8e2cb9d"
      },
      "outputs": [
        {
          "output_type": "stream",
          "name": "stdout",
          "text": [
            "tisnoor\n",
            "tisnoor\n",
            "tisnoor\n"
          ]
        }
      ],
      "source": [
        "print(\"tisnoor\")\n",
        "print(\"tisnoor\")\n",
        "print(\"tisnoor\")\n"
      ]
    },
    {
      "cell_type": "markdown",
      "source": [
        "Assingment 2.1: WAP to add three numbers and print the result."
      ],
      "metadata": {
        "id": "wquVbYhKnCqo"
      }
    },
    {
      "cell_type": "code",
      "source": [
        "a=2\n",
        "b=4\n",
        "c=5\n",
        "sum=a+b+c\n",
        "print(\"the sum of above three number are : \",sum)"
      ],
      "metadata": {
        "colab": {
          "base_uri": "https://localhost:8080/"
        },
        "id": "Mi5OCafTZtQ1",
        "outputId": "c615b646-b4ba-4f85-faf9-f28cfa9b3a24"
      },
      "execution_count": 1,
      "outputs": [
        {
          "output_type": "stream",
          "name": "stdout",
          "text": [
            "the sum of above three number are :  11\n"
          ]
        }
      ]
    },
    {
      "cell_type": "markdown",
      "source": [
        "Assingment 2.2: WAP to concatinate three strings and print the result."
      ],
      "metadata": {
        "id": "Miq2UjNJoRDk"
      }
    },
    {
      "cell_type": "code",
      "source": [],
      "metadata": {
        "id": "SDSh7F6GoNPf"
      },
      "execution_count": null,
      "outputs": []
    },
    {
      "cell_type": "code",
      "source": [
        "a=\"tisnoor \"\n",
        "b=\"gm, \"\n",
        "c=\"hi ! \"\n",
        "sum=a+b+c\n",
        "print(\"concatinated string is : \",sum)"
      ],
      "metadata": {
        "colab": {
          "base_uri": "https://localhost:8080/"
        },
        "id": "7EGwCtx5Z0ue",
        "outputId": "b7974a30-cb2e-4e78-82e6-53b31bc64883"
      },
      "execution_count": 2,
      "outputs": [
        {
          "output_type": "stream",
          "name": "stdout",
          "text": [
            "concatinated string is :  tisnoor gm, hi ! \n"
          ]
        }
      ]
    },
    {
      "cell_type": "markdown",
      "source": [
        "Assingment 4.1: WAP to print the table of 7, 9."
      ],
      "metadata": {
        "id": "3twCvX4RoUcz"
      }
    },
    {
      "cell_type": "code",
      "source": [
        "print(\"table of 7 is -> \")\n",
        "print()\n",
        "for i in range(1,11):\n",
        "  print(\"7 * \", i ,\"  =  \" , i*7)\n",
        "print()\n",
        "print(\"table of 9 is -> \")\n",
        "print()\n",
        "for i in range(1,11):\n",
        "  print(\"9 * \", i ,\"  =  \" , i*9)\n"
      ],
      "metadata": {
        "colab": {
          "base_uri": "https://localhost:8080/"
        },
        "id": "FAEsxJeqZ93b",
        "outputId": "e3014db8-75ff-4fb2-cddd-d25700a5a762"
      },
      "execution_count": null,
      "outputs": [
        {
          "output_type": "stream",
          "name": "stdout",
          "text": [
            "table of 7 is -> \n",
            "\n",
            "7 *  1   =   7\n",
            "7 *  2   =   14\n",
            "7 *  3   =   21\n",
            "7 *  4   =   28\n",
            "7 *  5   =   35\n",
            "7 *  6   =   42\n",
            "7 *  7   =   49\n",
            "7 *  8   =   56\n",
            "7 *  9   =   63\n",
            "7 *  10   =   70\n",
            "\n",
            "table of 9 is -> \n",
            "\n",
            "9 *  1   =   9\n",
            "9 *  2   =   18\n",
            "9 *  3   =   27\n",
            "9 *  4   =   36\n",
            "9 *  5   =   45\n",
            "9 *  6   =   54\n",
            "9 *  7   =   63\n",
            "9 *  8   =   72\n",
            "9 *  9   =   81\n",
            "9 *  10   =   90\n"
          ]
        }
      ]
    },
    {
      "cell_type": "markdown",
      "source": [
        "Assingment 4.2: WAP to print the table of n and n is given by user."
      ],
      "metadata": {
        "id": "oh1xIAIXobjs"
      }
    },
    {
      "cell_type": "code",
      "source": [
        "n=int(input(\"enter the number to write the table\"))\n",
        "print(\"table of \", n ,\" is -> \")\n",
        "print()\n",
        "for i in range(1,11):\n",
        "  print(n , \" * \", i ,\"  =  \" , i*n)"
      ],
      "metadata": {
        "colab": {
          "base_uri": "https://localhost:8080/"
        },
        "id": "z6Wk9_rAaFCK",
        "outputId": "10a191db-1bc1-4cb6-8cba-6babd504d4ff"
      },
      "execution_count": null,
      "outputs": [
        {
          "output_type": "stream",
          "name": "stdout",
          "text": [
            "enter the number to write the table6\n",
            "table of  6  is -> \n",
            "\n",
            "6  *  1   =   6\n",
            "6  *  2   =   12\n",
            "6  *  3   =   18\n",
            "6  *  4   =   24\n",
            "6  *  5   =   30\n",
            "6  *  6   =   36\n",
            "6  *  7   =   42\n",
            "6  *  8   =   48\n",
            "6  *  9   =   54\n",
            "6  *  10   =   60\n"
          ]
        }
      ]
    },
    {
      "cell_type": "markdown",
      "source": [
        "Assingment 4.3: WAP to add all the numbers from 1 to n and n is given by user."
      ],
      "metadata": {
        "id": "U-VRmJDJoekr"
      }
    },
    {
      "cell_type": "code",
      "source": [
        "n=int(input(\"enter the no \"))\n",
        "sum=0\n",
        "for i in range(1,n+1):\n",
        "  sum=sum+i\n",
        "print(\"the sum of first n natural numbers are: \",sum)\n"
      ],
      "metadata": {
        "colab": {
          "base_uri": "https://localhost:8080/"
        },
        "id": "sPP9vi_daMJl",
        "outputId": "66876d07-ecb8-4423-9bd2-53309be77847"
      },
      "execution_count": null,
      "outputs": [
        {
          "output_type": "stream",
          "name": "stdout",
          "text": [
            "enter the no 4\n",
            "the sum of first n natural numbers are:  10\n"
          ]
        }
      ]
    },
    {
      "cell_type": "markdown",
      "source": [
        "Assingment 5.1: WAP to find max amoung three numbers and input from user. [Try max() function]"
      ],
      "metadata": {
        "id": "0ppR2sRloinE"
      }
    },
    {
      "cell_type": "code",
      "source": [],
      "metadata": {
        "id": "H5ipaU6gJcUJ"
      },
      "execution_count": null,
      "outputs": []
    },
    {
      "cell_type": "code",
      "source": [
        "a=int(input(\"enter the first number \"))\n",
        "b=int(input(\"enter the second number \"))\n",
        "c=int(input(\"enter the third number \"))\n",
        "max1=max(a,b)\n",
        "max_ele=max(max1,c)\n",
        "print(\"the maximum among all three number is : \",max_ele)\n"
      ],
      "metadata": {
        "colab": {
          "base_uri": "https://localhost:8080/"
        },
        "id": "3Vlvua-QacIS",
        "outputId": "b26af0f6-aefe-4230-d8a3-161fde3fc4e8"
      },
      "execution_count": 3,
      "outputs": [
        {
          "output_type": "stream",
          "name": "stdout",
          "text": [
            "enter the first number 5\n",
            "enter the second number 3\n",
            "enter the third number 9\n",
            "the maximum among all three number is :  9\n"
          ]
        }
      ]
    },
    {
      "cell_type": "markdown",
      "source": [
        "Assingment 5.2: WAP to add all numbers divisible by 7 and 9 from 1 to n and n is given by the user."
      ],
      "metadata": {
        "id": "2cvQh9oMpNRD"
      }
    },
    {
      "cell_type": "code",
      "source": [
        "n=int(input(\"enter the no \"))\n",
        "sum=0\n",
        "for i in range(1,n+1):\n",
        "  if(i% 7==0 and i%9==0):\n",
        "    sum=sum+i\n",
        "print(\"the sum is : \",sum)"
      ],
      "metadata": {
        "colab": {
          "base_uri": "https://localhost:8080/"
        },
        "id": "VZcfo-N1asHP",
        "outputId": "c9dc5fc4-e02a-487d-9d83-1837d402da8e"
      },
      "execution_count": null,
      "outputs": [
        {
          "output_type": "stream",
          "name": "stdout",
          "text": [
            "enter the no 100\n",
            "the sum is :  63\n"
          ]
        }
      ]
    },
    {
      "cell_type": "markdown",
      "source": [
        "Assingment 5.3: WAP to add all prime numbers from 1 to n and n is given by the user."
      ],
      "metadata": {
        "id": "VaIXXKIppUQg"
      }
    },
    {
      "cell_type": "code",
      "source": [
        "n=int(input(\"enter the no \"))\n",
        "sum=0\n",
        "for i in range(1,n+1):\n",
        "  f=0\n",
        "  for j in range(2,i//2+1):\n",
        "    if(i%j==0):\n",
        "      f=1\n",
        "  if(f==0):\n",
        "    sum=sum+i\n",
        "print(\"the sum is : \",sum)"
      ],
      "metadata": {
        "colab": {
          "base_uri": "https://localhost:8080/"
        },
        "id": "yQi9XPN9bD1J",
        "outputId": "8d7606d0-4224-49a0-d10a-9d6290c6edea"
      },
      "execution_count": null,
      "outputs": [
        {
          "output_type": "stream",
          "name": "stdout",
          "text": [
            "enter the no 100\n",
            "the sum is :  1061\n"
          ]
        }
      ]
    },
    {
      "cell_type": "markdown",
      "source": [
        "\n",
        "Assingment 6.1: WAP using function that add all odd numbers from 1 to n, n is given by the user."
      ],
      "metadata": {
        "id": "PsZZjfhXpZVi"
      }
    },
    {
      "cell_type": "code",
      "source": [
        "def sum_of_odd_numbers(n):\n",
        "  s=0\n",
        "  for i in range(1,n+1):\n",
        "    if(i%2!=0):\n",
        "      s=s+i\n",
        "  return s\n",
        "\n",
        "n=int(input(\"enter the ending limit \"))\n",
        "sum=sum_of_odd_numbers(n)\n",
        "print(\"the sum is : \",sum)"
      ],
      "metadata": {
        "colab": {
          "base_uri": "https://localhost:8080/"
        },
        "id": "UG51gXcubN_a",
        "outputId": "9f838745-688b-49ce-f604-93a6a0c84556"
      },
      "execution_count": null,
      "outputs": [
        {
          "output_type": "stream",
          "name": "stdout",
          "text": [
            "enter the ending limit 100\n",
            "the sum is :  2500\n"
          ]
        }
      ]
    },
    {
      "cell_type": "markdown",
      "source": [
        "Assingment 6.2: WAP using function that add all prime numbers from 1 to n, n given by the user."
      ],
      "metadata": {
        "id": "WCoS21a9pfBa"
      }
    },
    {
      "cell_type": "code",
      "source": [
        "def sum_of_prime_numbers(n):\n",
        "  s=0\n",
        "  for i in range(1,n+1):\n",
        "    f=0\n",
        "    for j in range (2,i//2 +1):\n",
        "      if i%j==0:\n",
        "        f=1\n",
        "    if(f==0):\n",
        "      s=s+i\n",
        "  return s\n",
        "\n",
        "n=int(input(\"enter the ending limit \"))\n",
        "sum=sum_of_prime_numbers(n)\n",
        "print(\"the sum is : \",sum)"
      ],
      "metadata": {
        "colab": {
          "base_uri": "https://localhost:8080/"
        },
        "id": "WjC9k-zIbZ0K",
        "outputId": "98bdbff5-6c66-4dcf-eed5-949791fc1f77"
      },
      "execution_count": null,
      "outputs": [
        {
          "output_type": "stream",
          "name": "stdout",
          "text": [
            "enter the ending limit 11\n",
            "the sum is :  29\n"
          ]
        }
      ]
    }
  ]
}